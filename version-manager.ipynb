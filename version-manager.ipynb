{
 "cells": [
  {
   "cell_type": "markdown",
   "id": "6bb3daa1",
   "metadata": {},
   "source": [
    "# Version Manager\n",
    "\n",
    "Below I present my solution of the codewars's eponymous kata ([link](https://www.codewars.com/kata/5bc7bb444be9774f100000c3)).\n",
    "\n",
    "Task: to implement a VersionManager class. It should accept an optional parameter that represents the initial version. The input will be in one of the following formats: \"{MAJOR}\", \"{MAJOR}.{MINOR}\", or \"{MAJOR}.{MINOR}.{PATCH}\". More values may be provided after PATCH but they should be ignored. If these 3 parts are not decimal values, an exception with the message \"Error occured while parsing version!\" should be thrown. If the initial version is not provided or is an empty string, use \"0.0.1\" by default.\n",
    "\n",
    "This class should support the following methods, all of which should be chainable (except release):\n",
    "\n",
    " - major() - increase MAJOR by 1, set MINOR and PATCH to 0\n",
    " - minor() - increase MINOR by 1, set PATCH to 0\n",
    " - patch() - increase PATCH by 1\n",
    " - rollback() - return the MAJOR, MINOR, and PATCH to their values before the previous major/minor/patch call, or throw an exception with the message \"Cannot rollback!\" if there's no version to roll back to. Multiple calls to rollback() should be possible and restore the version history\n",
    " - release() - return a string in the format \"{MAJOR}.{MINOR}.{PATCH}\""
   ]
  },
  {
   "cell_type": "code",
   "execution_count": 1,
   "id": "ef97f2a8",
   "metadata": {},
   "outputs": [],
   "source": [
    "class VersionManager:\n",
    "    def __init__(self, version = '0.0.1'):\n",
    "        import re\n",
    "        if version == '':\n",
    "            self.version = '0.0.1'\n",
    "        elif version.isnumeric():\n",
    "            self.version = version + '.0.0'\n",
    "        elif re.match(r'^\\d+.\\d+$',version):\n",
    "            self.version = version + '.0'\n",
    "        elif re.match(r'^\\d+.\\d+.\\d+$',version):\n",
    "            self.version = version\n",
    "        elif re.match(r'^\\d+.\\d+.\\d+.\\w$',version):\n",
    "            self.version = '.'.join(version.split('.')[:3])\n",
    "        else:\n",
    "            pass\n",
    "        \n",
    "        try:\n",
    "            self.version_history = [self.version]\n",
    "            self.current_version = self.version_history[-1].split('.')\n",
    "            self.MAJOR = int(self.current_version[0])\n",
    "            self.MINOR = int(self.current_version[1])\n",
    "            self.PATCH = int(self.current_version[2])\n",
    "        except:\n",
    "            raise Exception('Error occured while parsing version!')\n",
    "            \n",
    "    def major(self):\n",
    "        self.MAJOR += 1\n",
    "        self.MINOR = 0\n",
    "        self.PATCH = 0\n",
    "        self.version_history.append(f'{self.MAJOR}.{self.MINOR}.{self.PATCH}')\n",
    "        return self\n",
    "        \n",
    "    def minor(self):\n",
    "        self.MINOR += 1\n",
    "        self.PATCH = 0\n",
    "        self.version_history.append(f'{self.MAJOR}.{self.MINOR}.{self.PATCH}')\n",
    "        return self\n",
    "        \n",
    "    def patch(self):\n",
    "        self.PATCH += 1\n",
    "        self.version_history.append(f'{self.MAJOR}.{self.MINOR}.{self.PATCH}')\n",
    "        return self\n",
    "    \n",
    "    def rollback(self):\n",
    "        if len(self.version_history) > 1:\n",
    "            self.version_history.pop()\n",
    "            self.current_version = self.version_history[-1].split('.')\n",
    "            self.MAJOR = int(self.current_version[0])\n",
    "            self.MINOR = int(self.current_version[1])\n",
    "            self.PATCH = int(self.current_version[2])\n",
    "        else:\n",
    "            raise Exception('Cannot rollback!')\n",
    "        return self\n",
    "        \n",
    "    def release(self):\n",
    "        return f'{self.MAJOR}.{self.MINOR}.{self.PATCH}'"
   ]
  },
  {
   "cell_type": "markdown",
   "id": "75611f42",
   "metadata": {},
   "source": [
    "# Examples of my code in action"
   ]
  },
  {
   "cell_type": "code",
   "execution_count": 2,
   "id": "5fae0859",
   "metadata": {},
   "outputs": [
    {
     "data": {
      "text/plain": [
       "'2.0.0'"
      ]
     },
     "execution_count": 2,
     "metadata": {},
     "output_type": "execute_result"
    }
   ],
   "source": [
    "VersionManager(\"1.2.3\").major().release()"
   ]
  },
  {
   "cell_type": "code",
   "execution_count": 3,
   "id": "f3a18e74",
   "metadata": {},
   "outputs": [
    {
     "data": {
      "text/plain": [
       "'1.3.0'"
      ]
     },
     "execution_count": 3,
     "metadata": {},
     "output_type": "execute_result"
    }
   ],
   "source": [
    "VersionManager(\"1.2.3\").minor().release()"
   ]
  },
  {
   "cell_type": "code",
   "execution_count": 4,
   "id": "2e4bc9d3",
   "metadata": {},
   "outputs": [
    {
     "data": {
      "text/plain": [
       "'1.2.4'"
      ]
     },
     "execution_count": 4,
     "metadata": {},
     "output_type": "execute_result"
    }
   ],
   "source": [
    "VersionManager(\"1.2.3\").patch().release()"
   ]
  },
  {
   "cell_type": "code",
   "execution_count": 5,
   "id": "95fd955f",
   "metadata": {},
   "outputs": [
    {
     "data": {
      "text/plain": [
       "'0.0.2'"
      ]
     },
     "execution_count": 5,
     "metadata": {},
     "output_type": "execute_result"
    }
   ],
   "source": [
    "VersionManager().patch().release()"
   ]
  },
  {
   "cell_type": "code",
   "execution_count": 6,
   "id": "41c0d4f5",
   "metadata": {},
   "outputs": [
    {
     "data": {
      "text/plain": [
       "'3.0.0'"
      ]
     },
     "execution_count": 6,
     "metadata": {},
     "output_type": "execute_result"
    }
   ],
   "source": [
    "VersionManager(\"2.1.5\").major().patch().rollback().release()"
   ]
  },
  {
   "cell_type": "code",
   "execution_count": 7,
   "id": "e02a690a",
   "metadata": {},
   "outputs": [
    {
     "data": {
      "text/plain": [
       "'3.1.0'"
      ]
     },
     "execution_count": 7,
     "metadata": {},
     "output_type": "execute_result"
    }
   ],
   "source": [
    "VersionManager(\"2.1.1\").major().patch().rollback().major().rollback().minor().release()"
   ]
  }
 ],
 "metadata": {
  "kernelspec": {
   "display_name": "Python 3 (ipykernel)",
   "language": "python",
   "name": "python3"
  },
  "language_info": {
   "codemirror_mode": {
    "name": "ipython",
    "version": 3
   },
   "file_extension": ".py",
   "mimetype": "text/x-python",
   "name": "python",
   "nbconvert_exporter": "python",
   "pygments_lexer": "ipython3",
   "version": "3.11.4"
  }
 },
 "nbformat": 4,
 "nbformat_minor": 5
}
