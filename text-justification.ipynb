{
 "cells": [
  {
   "cell_type": "markdown",
   "id": "f4d8b2d7",
   "metadata": {},
   "source": [
    "# Text Justification\n",
    "\n",
    "Task: to emulate text justification in monospace font. The function should take 2 arguments: single-lined text and expected justification width. The longest word will never be greater than this width.\n",
    "\n",
    "Requirements:\n",
    " - Use spaces to fill in the gaps between words.\n",
    " - Each line should contain as many words as possible.\n",
    " - Use '\\n' to separate lines.\n",
    " - Gap between words can't differ by more than 1 space.\n",
    " - Lines should end with a word, not a space.\n",
    " - '\\n' is not included in the length of a line.\n",
    " - Large gaps go first, then smaller ones ('Lorem--ipsum--dolor--sit-amet,' (2, 2, 2, 1 spaces)).\n",
    " - Last line should not be justified, use only one space between words.\n",
    " - Last line should not contain '\\n'\n",
    " - Strings with one word do not need gaps ('somelongword\\n')."
   ]
  },
  {
   "cell_type": "code",
   "execution_count": 1,
   "id": "34f6c83f",
   "metadata": {},
   "outputs": [],
   "source": [
    "def justify(text, width):\n",
    "    \n",
    "    words = text.split()\n",
    "    justified_text = ''\n",
    "    \n",
    "    while len(' '.join(words)) > width: \n",
    "    \n",
    "        # We begin drafting each line using single spaces in order to include as many words as possible\n",
    "        current_line = words[0]\n",
    "        words.pop(0)\n",
    "        current_line_spaces_count = 0\n",
    "        for word in words:\n",
    "            if len(word)+1 <= width-len(current_line):\n",
    "                current_line_spaces_count += 1\n",
    "                current_line = current_line + ' ' + word\n",
    "            else:\n",
    "                break    \n",
    "        \n",
    "        # Remove words already used in composition of justified text from words list\n",
    "        for _ in range(current_line_spaces_count):\n",
    "            words.pop(0)\n",
    "        \n",
    "        # Calculate total number of spaces to be added to the current line in order to fit width\n",
    "        add_spaces_num_total = width - len(current_line)\n",
    "\n",
    "        # Calculate how many spaces should be added to each space in the current line\n",
    "        add_spaces_num_list = []\n",
    "        for i in range(current_line_spaces_count):\n",
    "            add_spaces_num_list.append(add_spaces_num_total // current_line_spaces_count)\n",
    "        try:\n",
    "            for j in range(add_spaces_num_total % current_line_spaces_count):\n",
    "                add_spaces_num_list[j] += 1\n",
    "        except:\n",
    "            pass\n",
    "        \n",
    "        # Replace single spaces to double/triple/etc. spaces in order to fit width\n",
    "        words_in_current_line = current_line.split()\n",
    "        current_line = words_in_current_line[0]\n",
    "        for x in range(0,len(words_in_current_line)-1):\n",
    "            current_line = current_line + ' '*(add_spaces_num_list[x]+1) + words_in_current_line[x+1]\n",
    "        \n",
    "        # Add justified current line to justified text\n",
    "        justified_text = justified_text + current_line + '\\n'\n",
    "        \n",
    "    # Last line remains unjustified \n",
    "    return justified_text + ' '.join(words)"
   ]
  },
  {
   "cell_type": "markdown",
   "id": "cd2d630e",
   "metadata": {},
   "source": [
    "# Examples of my code in action"
   ]
  },
  {
   "cell_type": "code",
   "execution_count": 2,
   "id": "e6968e93",
   "metadata": {},
   "outputs": [],
   "source": [
    "some_text = \"The word quantum is the neuter singular of the Latin interrogative adjective quantus, meaning 'how much'. 'Quanta', the neuter plural, short for 'quanta of electricity' (electrons), was used in a 1902 article on the photoelectric effect by Philipp Lenard, who credited Hermann von Helmholtz for using the word in the area of electricity. However, the word quantum in general was well known before 1900, e.g. quantum was used in E. A. Poe's Loss of Breath. It was often used by physicians, such as in the term quantum satis, 'the amount which is enough'. Both Helmholtz and Julius von Mayer were physicians as well as physicists. Helmholtz used quantum with reference to heat in his article on Mayer's work, and the word quantum can be found in the formulation of the first law of thermodynamics by Mayer in his letter dated July 24, 1841. Source: Wikipedia.\""
   ]
  },
  {
   "cell_type": "code",
   "execution_count": 3,
   "id": "54973dd9",
   "metadata": {},
   "outputs": [],
   "source": [
    "justified_text = justify(some_text,30)"
   ]
  },
  {
   "cell_type": "code",
   "execution_count": 4,
   "id": "da3a2e82",
   "metadata": {},
   "outputs": [
    {
     "name": "stdout",
     "output_type": "stream",
     "text": [
      "The word quantum is the neuter\n",
      "singular    of    the    Latin\n",
      "interrogative        adjective\n",
      "quantus,  meaning  'how much'.\n",
      "'Quanta',  the  neuter plural,\n",
      "short     for    'quanta    of\n",
      "electricity'  (electrons), was\n",
      "used  in a 1902 article on the\n",
      "photoelectric     effect    by\n",
      "Philipp  Lenard,  who credited\n",
      "Hermann   von   Helmholtz  for\n",
      "using  the word in the area of\n",
      "electricity. However, the word\n",
      "quantum  in  general  was well\n",
      "known    before   1900,   e.g.\n",
      "quantum  was  used  in  E.  A.\n",
      "Poe's  Loss  of Breath. It was\n",
      "often used by physicians, such\n",
      "as  in the term quantum satis,\n",
      "'the  amount which is enough'.\n",
      "Both  Helmholtz and Julius von\n",
      "Mayer  were physicians as well\n",
      "as  physicists. Helmholtz used\n",
      "quantum with reference to heat\n",
      "in   his  article  on  Mayer's\n",
      "work, and the word quantum can\n",
      "be found in the formulation of\n",
      "the      first      law     of\n",
      "thermodynamics by Mayer in his\n",
      "letter  dated  July  24, 1841.\n",
      "Source: Wikipedia.\n"
     ]
    }
   ],
   "source": [
    "print(justified_text)"
   ]
  }
 ],
 "metadata": {
  "kernelspec": {
   "display_name": "Python 3 (ipykernel)",
   "language": "python",
   "name": "python3"
  },
  "language_info": {
   "codemirror_mode": {
    "name": "ipython",
    "version": 3
   },
   "file_extension": ".py",
   "mimetype": "text/x-python",
   "name": "python",
   "nbconvert_exporter": "python",
   "pygments_lexer": "ipython3",
   "version": "3.11.4"
  }
 },
 "nbformat": 4,
 "nbformat_minor": 5
}
